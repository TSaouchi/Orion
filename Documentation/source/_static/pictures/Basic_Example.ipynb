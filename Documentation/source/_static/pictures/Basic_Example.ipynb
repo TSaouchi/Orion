{
 "cells": [
  {
   "cell_type": "code",
   "execution_count": null,
   "id": "f9c85de6-72a7-4507-9600-4fd2e0edde34",
   "metadata": {},
   "outputs": [
    {
     "name": "stdout",
     "output_type": "stream",
     "text": [
      "\n",
      "================================================================================\n",
      "                                 Orion Project                                  \n",
      "================================================================================\n",
      "Author: Toufik Saouchi\n",
      "Version: 1.0.0\n",
      "================================================================================\n",
      "\n",
      "\u001b[37m\n",
      "Base: \u001b[0m\n",
      "\u001b[32m  Zone: zone_1\u001b[0m\n",
      "\u001b[32m    Instant: instant_1\u001b[0m\n",
      "\u001b[32m    Instant: instant_2\u001b[0m\n",
      "\u001b[32m  Zone: zone_2\u001b[0m\n",
      "\u001b[32m    Instant: instant_1\u001b[0m\n",
      "\u001b[32m    Instant: instant_2\u001b[0m\n"
     ]
    }
   ],
   "source": [
    "import numpy as np\n",
    "\n",
    "import Core as Orion\n",
    "from DataProcessor import Processor\n",
    "\n",
    "# Initialize the base object\n",
    "base = Orion.Base()\n",
    "base.init(['zone_1', 'zone_2'], ['instant_1', 'instant_2'])\n",
    "\n",
    "# Explore the base\n",
    "base.show()"
   ]
  },
  {
   "cell_type": "code",
   "execution_count": null,
   "id": "d14bfb8e-3391-4e2d-9b96-b7b1d407ffcb",
   "metadata": {},
   "outputs": [
    {
     "name": "stdout",
     "output_type": "stream",
     "text": [
      "\u001b[37m\n",
      "Base: \u001b[0m\n",
      "\u001b[32m  Zone: zone_1\u001b[0m\n",
      "\u001b[32m    Instant: instant_1\u001b[0m\n",
      "\u001b[94m      Variable: Velocity -> Shape :(8, 30)\u001b[0m\n",
      "\u001b[94m      Variable: Pressure -> Shape :(8, 30)\u001b[0m\n",
      "\u001b[32m    Instant: instant_2\u001b[0m\n",
      "\u001b[32m  Zone: zone_2\u001b[0m\n",
      "\u001b[32m    Instant: instant_1\u001b[0m\n",
      "\u001b[32m    Instant: instant_2\u001b[0m\n"
     ]
    },
    {
     "data": {
      "text/plain": [
       "OrderedDict([('Unit', 'm/s')])"
      ]
     },
     "execution_count": 2,
     "metadata": {},
     "output_type": "execute_result"
    }
   ],
   "source": [
    "# Add variables to the instant\n",
    "base[\"zone_1\"][\"instant_1\"].add_variable(\"Velocity\", np.random.randint(1, 101, size=(8, 30)))\n",
    "base[\"zone_1\"][\"instant_1\"].add_variable(\"Pressure\", np.random.randint(1, 101, size=(8, 30)))\n",
    "base[\"zone_1\"][\"instant_1\"][\"Velocity\"].set_attribute(\"Unit\", \"m/s\")\n",
    "\n",
    "base[0][0].add_variable(\"Velocity\", np.random.randint(1, 101, size=(8, 30)))\n",
    "base[0][0].add_variable(\"Pressure\", np.random.randint(1, 101, size=(8, 30)))\n",
    "base[0][0][0].set_attribute(\"Unit\", \"m/s\")\n",
    "\n",
    "# Explore the base\n",
    "base.show()\n",
    "base[0][0][0]._attributes"
   ]
  },
  {
   "cell_type": "code",
   "execution_count": null,
   "id": "b17d2908-55e8-481b-9772-8cb419842b6a",
   "metadata": {},
   "outputs": [
    {
     "name": "stdout",
     "output_type": "stream",
     "text": [
      "\u001b[34m\n",
      "Computing~~~~~~~~~~~~~~~~~~~~~~~~~~~~~~~~~~~~~~~~~~~~~~~~~~~~~~~~~~~~~~~~~~~~~~\u001b[0m\n"
     ]
    },
    {
     "name": "stderr",
     "output_type": "stream",
     "text": [
      "Zones    : 100%|\u001b[32m█████████████████████████████\u001b[0m| 1.00/1.00 [00:00<00:00, 996ops/s]\u001b[0m"
     ]
    },
    {
     "name": "stdout",
     "output_type": "stream",
     "text": [
      "\u001b[37m\n",
      "Base: \u001b[0m\n",
      "\u001b[32m  Zone: zone_1\u001b[0m\n",
      "\u001b[32m    Instant: instant_1\u001b[0m\n",
      "\u001b[94m      Variable: Velocity -> Shape :(8, 30), stats(min, mean, max): (1, 50.18, 100)\u001b[0m\n",
      "\u001b[94m      Variable: Pressure -> Shape :(8, 30), stats(min, mean, max): (1, 48.03, 100)\u001b[0m\n",
      "\u001b[94m      Variable: Density -> Shape :(), stats(min, mean, max): (1.08, 1.08, 1.08)\u001b[0m\n",
      "\u001b[94m      Variable: Ratio -> Shape :(8, 30), stats(min, mean, max): (0.0, 0.87, 88.89)\u001b[0m\n",
      "\u001b[32m    Instant: instant_2\u001b[0m\n",
      "\u001b[32m  Zone: zone_2\u001b[0m\n",
      "\u001b[32m    Instant: instant_1\u001b[0m\n",
      "\u001b[32m    Instant: instant_2\u001b[0m\n"
     ]
    },
    {
     "name": "stderr",
     "output_type": "stream",
     "text": [
      "\n"
     ]
    }
   ],
   "source": [
    "# Compute accross all the base using literal expressions\n",
    "base[0][0].add_variable(\"Density\", 1.08)\n",
    "base.compute(\"Ratio = Pressure/(Density*pow(Velocity, 2))\")\n",
    "\n",
    "# Explore the base\n",
    "base.show(stats = True)"
   ]
  },
  {
   "cell_type": "code",
   "execution_count": null,
   "id": "28f1cefd-1dac-4be1-b30b-979e60959e79",
   "metadata": {},
   "outputs": [
    {
     "name": "stdout",
     "output_type": "stream",
     "text": [
      "\u001b[34m\n",
      "Computing~~~~~~~~~~~~~~~~~~~~~~~~~~~~~~~~~~~~~~~~~~~~~~~~~~~~~~~~~~~~~~~~~~~~~~\u001b[0m\n"
     ]
    },
    {
     "name": "stderr",
     "output_type": "stream",
     "text": [
      "Zones    : 100%|\u001b[32m███████████████████████████████████\u001b[0m| 4.00/4.00 [00:00<?, ?ops/s]\u001b[0m"
     ]
    },
    {
     "name": "stdout",
     "output_type": "stream",
     "text": [
      "\u001b[37m\n",
      "Base: \u001b[0m\n",
      "\u001b[32m  Zone: zone_1\u001b[0m\n",
      "\u001b[32m    Instant: instant_1\u001b[0m\n",
      "\u001b[94m      Variable: Velocity -> Shape :(8, 30), stats(min, mean, max): (1, 50.18, 100)\u001b[0m\n",
      "\u001b[94m      Variable: Pressure -> Shape :(8, 30), stats(min, mean, max): (1, 48.03, 100)\u001b[0m\n",
      "\u001b[94m      Variable: Density -> Shape :(), stats(min, mean, max): (1.08, 1.08, 1.08)\u001b[0m\n",
      "\u001b[94m      Variable: Ratio -> Shape :(8, 30), stats(min, mean, max): (0.0, 0.87, 88.89)\u001b[0m\n",
      "\u001b[94m      Variable: Element_number -> Shape :(), stats(min, mean, max): (5, 5.0, 5)\u001b[0m\n",
      "\u001b[32m    Instant: instant_2\u001b[0m\n",
      "\u001b[94m      Variable: Element_number -> Shape :(), stats(min, mean, max): (5, 5.0, 5)\u001b[0m\n",
      "\u001b[32m  Zone: zone_2\u001b[0m\n",
      "\u001b[32m    Instant: instant_1\u001b[0m\n",
      "\u001b[94m      Variable: Element_number -> Shape :(), stats(min, mean, max): (5, 5.0, 5)\u001b[0m\n",
      "\u001b[32m    Instant: instant_2\u001b[0m\n",
      "\u001b[94m      Variable: Element_number -> Shape :(), stats(min, mean, max): (5, 5.0, 5)\u001b[0m\n"
     ]
    },
    {
     "name": "stderr",
     "output_type": "stream",
     "text": [
      "\n"
     ]
    }
   ],
   "source": [
    "# Compute \n",
    "base.compute(\"Element_number = 5\")\n",
    "\n",
    "# Explore the base\n",
    "base.show(stats = True)"
   ]
  }
 ],
 "metadata": {
  "language_info": {
   "codemirror_mode": {
    "name": "ipython",
    "version": 3
   },
   "file_extension": ".py",
   "mimetype": "text/x-python",
   "name": "python",
   "nbconvert_exporter": "python",
   "pygments_lexer": "ipython3",
   "version": 3
  }
 },
 "nbformat": 4,
 "nbformat_minor": 2
}
